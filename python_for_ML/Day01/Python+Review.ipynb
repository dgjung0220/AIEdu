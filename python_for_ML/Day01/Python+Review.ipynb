{
 "cells": [
  {
   "cell_type": "markdown",
   "metadata": {},
   "source": [
    "# 학습 목표\n",
    "- Python 기본 문법 Quick Review를 통해 기존에 사용하던 언어와의 차이점들을 확인한다.\n",
    "\n",
    "#### 출처 : https://wikidocs.net/book/1421 (미운코딩새끼: 4시간만에 끝내는 파이썬 기초 (저자:김왼손과 집단지성들))"
   ]
  },
  {
   "cell_type": "markdown",
   "metadata": {},
   "source": [
    "***\n",
    "# 출력하기\n",
    "- print()는 값을 출력해주는 함수입니다.\n",
    "- 입력한 메시지나 값을 출력합니다.\n",
    "- 문자나 숫자 등을 출력할 수 있습니다.\n",
    "- 쉼표(,)로 여러 값을 출력할 수 있습니다.\n",
    "- 괄호(()) 안의 값을 출력합니다."
   ]
  },
  {
   "cell_type": "code",
   "execution_count": 9,
   "metadata": {},
   "outputs": [
    {
     "name": "stdout",
     "output_type": "stream",
     "text": [
      "hello\n",
      "hello2\n",
      "1\n",
      "[1, 2, 3]\n",
      "(1, 2, 3)\n",
      "(1, 'hahah', [1, 2])\n",
      "abcdef\n"
     ]
    }
   ],
   "source": [
    "print('hello')\n",
    "print(\"hello2\")\n",
    "print(1)\n",
    "print([1,2,3])\n",
    "print(1,2,3)\n",
    "print(1,'hahah',[1,2])\n",
    "print('abc'+'def')"
   ]
  },
  {
   "cell_type": "markdown",
   "metadata": {},
   "source": [
    "***\n",
    "# 자료형"
   ]
  },
  {
   "cell_type": "markdown",
   "metadata": {},
   "source": [
    "## 숫자형 (Numeric)\n",
    "- 숫자로 이루어진 자료형입니다.\n",
    "- 정수나 실수 등을 다룰 수 있습니다.\n",
    "- 숫자끼리 연산도 가능합니다."
   ]
  },
  {
   "cell_type": "code",
   "execution_count": 11,
   "metadata": {},
   "outputs": [
    {
     "name": "stdout",
     "output_type": "stream",
     "text": [
      "1\n",
      "3.4\n"
     ]
    }
   ],
   "source": [
    "my_int = 1\n",
    "my_float = 3.4\n",
    "print(my_int)\n",
    "print(my_float)"
   ]
  },
  {
   "cell_type": "markdown",
   "metadata": {},
   "source": [
    "## 문자열 (String)\n",
    "- 문자나 문자들을 늘어놓은 것입니다.\n",
    "- 큰따옴표와 작은따옴표로 구분합니다.\n",
    "- 리스트와 함께 시퀀스 자료형입니다.\n",
    "- 작은따옴표(' ') 또는 큰따옴표(\" \")로 구분합니다."
   ]
  },
  {
   "cell_type": "code",
   "execution_count": 12,
   "metadata": {},
   "outputs": [
    {
     "name": "stdout",
     "output_type": "stream",
     "text": [
      "abc\n",
      "def\n"
     ]
    }
   ],
   "source": [
    "my_str1 = 'abc'\n",
    "my_str2 = \"def\"\n",
    "print(my_str1)\n",
    "print(my_str2)"
   ]
  },
  {
   "cell_type": "markdown",
   "metadata": {},
   "source": [
    "## 불린 (Boolean)\n",
    "- 참(True)과 거짓(False)을 말합니다.\n",
    "- 비교나 논리연산자의 결과입니다."
   ]
  },
  {
   "cell_type": "code",
   "execution_count": 15,
   "metadata": {},
   "outputs": [
    {
     "name": "stdout",
     "output_type": "stream",
     "text": [
      "False\n"
     ]
    }
   ],
   "source": [
    "my_bool1 = True\n",
    "my_bool2 = False\n",
    "print(my_bool2)"
   ]
  },
  {
   "cell_type": "markdown",
   "metadata": {},
   "source": [
    "## 리스트 (List)\n",
    "- 여러 값을 함께 모아서 저장합니다.\n",
    "- 값을 변경할 수 있으며 순서가 있습니다."
   ]
  },
  {
   "cell_type": "code",
   "execution_count": 20,
   "metadata": {},
   "outputs": [
    {
     "name": "stdout",
     "output_type": "stream",
     "text": [
      "[1, 2, 'test']\n",
      "[2, 1, 'test']\n",
      "[1, 2, 'test', 'heheh']\n"
     ]
    }
   ],
   "source": [
    "my_list = []\n",
    "my_list2 = [1,2,'test']\n",
    "my_list3 = [2,1,'test']\n",
    "print(my_list2)\n",
    "print(my_list3)\n",
    "my_list2.append('heheh')\n",
    "print(my_list2)"
   ]
  },
  {
   "cell_type": "markdown",
   "metadata": {},
   "source": [
    "## 튜플 (Tuple)\n",
    "- 여러 값을 함께 모아서 저장합니다.\n",
    "- 값을 변경할 수 없으며 순서가 있습니다."
   ]
  },
  {
   "cell_type": "code",
   "execution_count": 21,
   "metadata": {},
   "outputs": [
    {
     "name": "stdout",
     "output_type": "stream",
     "text": [
      "(4, 5, 6)\n"
     ]
    }
   ],
   "source": [
    "my_tuple = ()\n",
    "my_tuple2 = (1,2,3)\n",
    "my_tuple3 = 4,5,6\n",
    "print(my_tuple3)"
   ]
  },
  {
   "cell_type": "markdown",
   "metadata": {},
   "source": [
    "## 딕셔너리 (Dictionary)\n",
    "- 관련된 정보를 서로 연관시켜 놓은 것입니다.\n",
    "- 키와 값의 쌍으로 이루어져 있습니다."
   ]
  },
  {
   "cell_type": "code",
   "execution_count": 25,
   "metadata": {},
   "outputs": [
    {
     "name": "stdout",
     "output_type": "stream",
     "text": [
      "{0: '3333', 1: 'a', 'b': 2}\n"
     ]
    }
   ],
   "source": [
    "my_dict = {}\n",
    "my_dict[1] = 'a'\n",
    "my_dict['b'] = 2\n",
    "my_dict[0] = '3333'\n",
    "print(my_dict)"
   ]
  },
  {
   "cell_type": "markdown",
   "metadata": {},
   "source": [
    "## 자료형 변환\n",
    "- 자료형끼리 변환할 수 있는 함수도 있습니다.\n",
    "- 내장함수란 파이썬에서 기본으로 제공하는 함수를 말합니다.\n",
    "- int(): 정수형으로 변환합니다.\n",
    "- float(): 실수형으로 변환합니다.\n",
    "- str(): 문자열로 변환합니다.\n",
    "- list(): 리스트로 변환합니다."
   ]
  },
  {
   "cell_type": "code",
   "execution_count": 33,
   "metadata": {},
   "outputs": [
    {
     "name": "stdout",
     "output_type": "stream",
     "text": [
      "1\n",
      "<type 'int'>\n"
     ]
    }
   ],
   "source": [
    "print(int(1.0))\n",
    "print(type ((1)) )\n"
   ]
  },
  {
   "cell_type": "markdown",
   "metadata": {},
   "source": [
    "***\n",
    "# 문자열"
   ]
  },
  {
   "cell_type": "markdown",
   "metadata": {},
   "source": [
    "## format()\n",
    "- 포맷팅을 수행하는 문자열의 메소드입니다.\n",
    "- 중괄호 { }를 이용해 값을 대입합니다.\n",
    "- % 연산자보다 파이썬스러운 방법입니다.\n",
    "- 괄호 안에 숫자를 넣어 순서도 지정할 수 있습니다."
   ]
  },
  {
   "cell_type": "code",
   "execution_count": 37,
   "metadata": {},
   "outputs": [
    {
     "name": "stdout",
     "output_type": "stream",
     "text": [
      "My name is Tom\n",
      "My name is Tom\n",
      "3x2=6\n"
     ]
    }
   ],
   "source": [
    "print('My name is %s' % 'Tom')\n",
    "print('My name is {}'.format('Tom'))\n",
    "print('{1}x{0}={2}'.format(2,3,2*3))"
   ]
  },
  {
   "cell_type": "markdown",
   "metadata": {},
   "source": [
    "## 인덱싱\n",
    "- 위치(index)를 이용해 각 문자에 접근할 수 있습니다.\n",
    "- 위치는 0부터 시작합니다. 공백도 포함합니다."
   ]
  },
  {
   "cell_type": "code",
   "execution_count": 39,
   "metadata": {},
   "outputs": [
    {
     "name": "stdout",
     "output_type": "stream",
     "text": [
      "a\n",
      "d\n"
     ]
    }
   ],
   "source": [
    "alphabet = 'abcde'\n",
    "print(alphabet[0])\n",
    "print(alphabet[3])"
   ]
  },
  {
   "cell_type": "code",
   "execution_count": 41,
   "metadata": {},
   "outputs": [
    {
     "name": "stdout",
     "output_type": "stream",
     "text": [
      "�\n"
     ]
    }
   ],
   "source": [
    "my_name = '김왼손의 왼손코딩'\n",
    "print(my_name[1])"
   ]
  },
  {
   "cell_type": "markdown",
   "metadata": {},
   "source": [
    "- 음수를 인덱스로 사용할 수 있습니다. \n",
    "- 가장 뒤의 값을 -1부터 해서 거꾸로 세어갑니다.\n",
    "- 리스트 자료형에서도 거의 비슷합니다."
   ]
  },
  {
   "cell_type": "code",
   "execution_count": 43,
   "metadata": {},
   "outputs": [
    {
     "name": "stdout",
     "output_type": "stream",
     "text": [
      "f\n",
      "d\n"
     ]
    }
   ],
   "source": [
    "my_name = 'abcdef'\n",
    "print(my_name[-1])\n",
    "print(my_name[-3])"
   ]
  },
  {
   "cell_type": "markdown",
   "metadata": {},
   "source": [
    "## 슬라이싱\n",
    "- 문자열에서 여러 값을 한꺼번에 잘라옵니다.\n",
    "- 콜론(:)을 이용해 여러 값을 한꺼번에 가져올 수 있습니다.\n",
    "- 기존 문자열은 그대로 두고 복사해서 사용합니다."
   ]
  },
  {
   "cell_type": "code",
   "execution_count": 50,
   "metadata": {},
   "outputs": [
    {
     "name": "stdout",
     "output_type": "stream",
     "text": [
      "o Python!\n"
     ]
    }
   ],
   "source": [
    "my_str = 'Hello Python!'\n",
    "#my_str[1:5]\n",
    "print(my_str[4:])\n",
    "my_name = '김왼손의 왼손코딩'\n"
   ]
  },
  {
   "cell_type": "markdown",
   "metadata": {},
   "source": [
    "- 앞이나 뒤 숫자를 생략할 수도 있습니다."
   ]
  },
  {
   "cell_type": "code",
   "execution_count": 52,
   "metadata": {},
   "outputs": [
    {
     "name": "stdout",
     "output_type": "stream",
     "text": [
      "Hello\n"
     ]
    }
   ],
   "source": [
    "print(my_str[:5])"
   ]
  },
  {
   "cell_type": "markdown",
   "metadata": {},
   "source": [
    "# split()\n",
    "- string.split(): 문자열을 공백 기준으로 분리하는 메서드입니다."
   ]
  },
  {
   "cell_type": "code",
   "execution_count": 54,
   "metadata": {},
   "outputs": [
    {
     "name": "stdout",
     "output_type": "stream",
     "text": [
      "['apple', 'banana', 'lemon']\n",
      "apple\n",
      "banana\n",
      "lemon\n"
     ]
    }
   ],
   "source": [
    "fruit_str = 'apple banana lemon'\n",
    "fruits = fruit_str.split()\n",
    "print(fruits)\n",
    "print(fruits[0])\n",
    "print(fruits[1])\n",
    "print(fruits[-1])\n",
    "my_name = '김왼손의 왼손코딩'\n"
   ]
  },
  {
   "cell_type": "markdown",
   "metadata": {},
   "source": [
    "***\n",
    "# 리스트"
   ]
  },
  {
   "cell_type": "markdown",
   "metadata": {},
   "source": [
    "## 기본 구조\n",
    "- 여러 값을 한꺼번에 모을 수 있습니다.\n",
    "- 값들은 변경할 수 있고 순서가 있습니다.\n",
    "- 가변과 불변\n",
    "> 가변(mutable) : 값을 변경할 수 있습니다. 리스트, 딕셔너리 등이 해당됩니다. <br>\n",
    "> 불변(immutable) : 값을 변경할 수 없습니다. 문자열, 튜플 등이 해당됩니다.\n",
    "- 빈 리스트 만들기"
   ]
  },
  {
   "cell_type": "code",
   "execution_count": 56,
   "metadata": {},
   "outputs": [
    {
     "name": "stdout",
     "output_type": "stream",
     "text": [
      "[]\n",
      "<type 'list'>\n"
     ]
    }
   ],
   "source": [
    "my_list = []\n",
    "print(my_list)\n",
    "print(type(my_list))\n",
    "\n"
   ]
  },
  {
   "cell_type": "markdown",
   "metadata": {},
   "source": [
    "- 값을 가지고 있는 리스트 만들기"
   ]
  },
  {
   "cell_type": "code",
   "execution_count": 57,
   "metadata": {},
   "outputs": [
    {
     "name": "stdout",
     "output_type": "stream",
     "text": [
      "[1, 2, 3]\n"
     ]
    }
   ],
   "source": [
    "my_list = [1, 2, 3]\n",
    "print(my_list)\n",
    "\n"
   ]
  },
  {
   "cell_type": "markdown",
   "metadata": {},
   "source": [
    "## 값 추가하기\n",
    "- 리스트의 메서드 list.append()를 사용해서 값을 추가할 수 있습니다."
   ]
  },
  {
   "cell_type": "code",
   "execution_count": 58,
   "metadata": {},
   "outputs": [
    {
     "name": "stdout",
     "output_type": "stream",
     "text": [
      "['Tom', 'Alice', 'Sally', 'Harry', 'Lucy']\n"
     ]
    }
   ],
   "source": [
    "students = ['Tom', 'Alice', 'Sally']\n",
    "students.append('Harry')\n",
    "students.append('Lucy')\n",
    "print(students)\n",
    "\n"
   ]
  },
  {
   "cell_type": "markdown",
   "metadata": {},
   "source": [
    "## 인덱싱, 슬라이싱\n",
    "- 인덱싱, 슬라이싱은 문자열의 방법과 상당히 유사합니다.\n",
    "- 위치를 이용해서 값에 접근하는 것을 인덱싱이라고 합니다."
   ]
  },
  {
   "cell_type": "code",
   "execution_count": 60,
   "metadata": {},
   "outputs": [
    {
     "name": "stdout",
     "output_type": "stream",
     "text": [
      "바다소\n",
      "['\\xeb\\xb0\\x94\\xeb\\x8b\\xa4\\xec\\x86\\x8c', '\\xeb\\x95\\x85\\xeb\\x8b\\xa4\\xeb\\x9e\\x8c\\xec\\xa5\\x90', '\\xeb\\xb0\\x94\\xeb\\x8b\\xa4\\xec\\xbd\\x94\\xeb\\x81\\xbc\\xeb\\xa6\\xac']\n"
     ]
    }
   ],
   "source": [
    "animals = ['코알라', '하이에나', '바다소', '땅다람쥐', '바다코끼리', '스컹크', '아나콘다']\n",
    "print(animals[2])\n",
    "print(animals[2:5])\n"
   ]
  },
  {
   "cell_type": "markdown",
   "metadata": {},
   "source": [
    "## sort()\n",
    "- list.sort(): 리스트 안의 값을 정렬합니다."
   ]
  },
  {
   "cell_type": "code",
   "execution_count": 67,
   "metadata": {},
   "outputs": [
    {
     "name": "stdout",
     "output_type": "stream",
     "text": [
      "['bb', 'aa', 'cc']\n",
      "['aa', 'bb', 'cc']\n"
     ]
    }
   ],
   "source": [
    "animals =['코알라', '하이에나', '바다소', '땅다람쥐', '바다코끼리', '스컹크', '아나콘다']\n",
    "animals2 = [\"bb\",\"aa\",\"cc\"]\n",
    "print(animals2)\n",
    "animals2.sort()\n",
    "print(animals2)"
   ]
  },
  {
   "cell_type": "markdown",
   "metadata": {},
   "source": [
    "***\n",
    "# 튜플\n",
    "## 기본 구조\n",
    "- 튜플은 리스트와 거의 유사합니다.\n",
    "- 여러 값을 한꺼번에 모을 수 있습니다.\n",
    "- 값을 변경할 수 없다는 점이 리스트와 다릅니다.\n",
    "- 튜플은 괄호를 쓰지 않아도 됩니다."
   ]
  },
  {
   "cell_type": "code",
   "execution_count": 68,
   "metadata": {},
   "outputs": [
    {
     "name": "stdout",
     "output_type": "stream",
     "text": [
      "<type 'tuple'>\n"
     ]
    },
    {
     "data": {
      "text/plain": [
       "tuple"
      ]
     },
     "execution_count": 68,
     "metadata": {},
     "output_type": "execute_result"
    }
   ],
   "source": [
    "my_tuple = (1, 2, 3)\n",
    "print(type(my_tuple))\n",
    "my_tuple = 1, 2, 3\n",
    "type(my_tuple)"
   ]
  },
  {
   "cell_type": "markdown",
   "metadata": {},
   "source": [
    "## 패킹, 언패킹\n",
    "- 패킹(packing) : 여러 개의 값을 한꺼번에 묶는 것을 말합니다.\n",
    "- 언패킹(unpacking) : 묶여 있는 값을 풀어놓는 것을 말합니다."
   ]
  },
  {
   "cell_type": "code",
   "execution_count": 70,
   "metadata": {},
   "outputs": [
    {
     "name": "stdout",
     "output_type": "stream",
     "text": [
      "1\n",
      "2\n"
     ]
    }
   ],
   "source": [
    "my_tuple = (1, 2, 3)\n",
    "num1, num2, num3 = my_tuple\n",
    "print(num1)\n",
    "print(num2)"
   ]
  },
  {
   "cell_type": "markdown",
   "metadata": {},
   "source": [
    "***\n",
    "# for\n",
    "## 기본 구조"
   ]
  },
  {
   "cell_type": "code",
   "execution_count": null,
   "metadata": {
    "collapsed": true
   },
   "outputs": [],
   "source": [
    "for 변수 in 컨테이너:\n",
    "    실행할 명령1\n",
    "    실행할 명령2\n",
    "    ..."
   ]
  },
  {
   "cell_type": "markdown",
   "metadata": {},
   "source": [
    "- 컨테이너 안의 값을 전부 순회할 때까지 반복합니다. (반복가능한 객체 : list, dictionary, set, string, tuple 등등)\n",
    "- 반복하는 부분을 코드블럭이라고 합니다.\n",
    "- 코드블럭을 구분하기 위해 콜론(:)과 들여쓰기를 사용합니다."
   ]
  },
  {
   "cell_type": "code",
   "execution_count": 71,
   "metadata": {},
   "outputs": [
    {
     "name": "stdout",
     "output_type": "stream",
     "text": [
      "땅다람쥐\n",
      "바다코끼리\n",
      "스컹크\n",
      "아나콘다\n",
      "코알라\n",
      "하이에나\n",
      "바다소\n"
     ]
    }
   ],
   "source": [
    "animals = ['땅다람쥐', '바다코끼리', '스컹크', '아나콘다', '코알라', '하이에나', '바다소']\n",
    "for each_animal in animals:\n",
    "    print(each_animal)"
   ]
  },
  {
   "cell_type": "code",
   "execution_count": 72,
   "metadata": {},
   "outputs": [
    {
     "name": "stdout",
     "output_type": "stream",
     "text": [
      "1\n",
      "2\n",
      "3\n"
     ]
    }
   ],
   "source": [
    "for num in [1,2,3]:\n",
    "    print(num)"
   ]
  },
  {
   "cell_type": "code",
   "execution_count": 73,
   "metadata": {},
   "outputs": [
    {
     "name": "stdout",
     "output_type": "stream",
     "text": [
      "s\n",
      "t\n",
      "r\n",
      "i\n",
      "n\n",
      "g\n"
     ]
    }
   ],
   "source": [
    "for ch in 'string':\n",
    "    print(ch)"
   ]
  },
  {
   "cell_type": "markdown",
   "metadata": {},
   "source": [
    "## 들여쓰기\n",
    "- 파이썬에서는 들여쓰기가 선택이 아닌 필수입니다.\n",
    "- 띄어쓰기의 종류는 하나로 통일해야 합니다.\n",
    "- 보통 띄어쓰기 4칸을 권장합니다."
   ]
  },
  {
   "cell_type": "markdown",
   "metadata": {},
   "source": [
    "## range()\n",
    "- for와 함께 자주 사용되는 내장함수입니다.\n",
    "- range(stop)은 0부터 stop 전까지의 숫자를 나열합니다.\n",
    "- range(start, strop)는 start부터 stop 전까지의 숫자를 나열합니다."
   ]
  },
  {
   "cell_type": "code",
   "execution_count": 74,
   "metadata": {},
   "outputs": [
    {
     "name": "stdout",
     "output_type": "stream",
     "text": [
      "0\n",
      "1\n",
      "2\n",
      "3\n",
      "4\n",
      "5\n",
      "6\n",
      "7\n",
      "8\n",
      "9\n"
     ]
    }
   ],
   "source": [
    "for n in range(10):\n",
    "    print(n)"
   ]
  },
  {
   "cell_type": "code",
   "execution_count": 77,
   "metadata": {},
   "outputs": [
    {
     "name": "stdout",
     "output_type": "stream",
     "text": [
      "4\n",
      "5\n",
      "6\n",
      "7\n",
      "8\n",
      "9\n"
     ]
    }
   ],
   "source": [
    "for n in range(4,10):\n",
    "    print(n)"
   ]
  },
  {
   "cell_type": "markdown",
   "metadata": {},
   "source": [
    "## for x 2\n",
    "- for를 중첩해서 사용할 수 있습니다"
   ]
  },
  {
   "cell_type": "code",
   "execution_count": 78,
   "metadata": {
    "scrolled": true
   },
   "outputs": [
    {
     "name": "stdout",
     "output_type": "stream",
     "text": [
      "0\n",
      "0\n",
      "0\n",
      "0\n",
      "0\n",
      "0\n",
      "1\n",
      "2\n",
      "3\n",
      "4\n",
      "0\n",
      "2\n",
      "4\n",
      "6\n",
      "8\n",
      "0\n",
      "3\n",
      "6\n",
      "9\n",
      "12\n",
      "0\n",
      "4\n",
      "8\n",
      "12\n",
      "16\n",
      "0\n",
      "5\n",
      "10\n",
      "15\n",
      "20\n",
      "0\n",
      "6\n",
      "12\n",
      "18\n",
      "24\n",
      "0\n",
      "7\n",
      "14\n",
      "21\n",
      "28\n",
      "0\n",
      "8\n",
      "16\n",
      "24\n",
      "32\n",
      "0\n",
      "9\n",
      "18\n",
      "27\n",
      "36\n"
     ]
    }
   ],
   "source": [
    "for i in range(10):\n",
    "    for j in range(5):\n",
    "        print(i*j)"
   ]
  },
  {
   "cell_type": "markdown",
   "metadata": {},
   "source": [
    "## Comprehension\n",
    "- 리스트를 만드는 강력하고 간결한 방법입니다.\n",
    "- 초보자에게는 쉽지 않을 수 있지만 많이 사용됩니다.\n",
    "- 주어진 리스트에서 홀수만 뽑아내는 코드를 작성해봅시다."
   ]
  },
  {
   "cell_type": "code",
   "execution_count": 125,
   "metadata": {},
   "outputs": [
    {
     "name": "stdout",
     "output_type": "stream",
     "text": [
      "[1, 3, 5, 7, 9]\n"
     ]
    }
   ],
   "source": [
    "numbers = [1, 2, 3, 4, 5, 6, 7, 8, 9, 10]\n",
    "odd_numbers = []\n",
    "\n",
    "for number in numbers:\n",
    "    if number % 2 == 1:  # 2로 나눴을 때 1이 남으면 홀수입니다.\n",
    "        odd_numbers.append(number)\n",
    "print(odd_numbers)"
   ]
  },
  {
   "cell_type": "markdown",
   "metadata": {},
   "source": [
    "- 다음은 컴프리헨션을 이용한 방법입니다."
   ]
  },
  {
   "cell_type": "code",
   "execution_count": 126,
   "metadata": {},
   "outputs": [
    {
     "name": "stdout",
     "output_type": "stream",
     "text": [
      "[1, 3, 5, 7, 9]\n"
     ]
    }
   ],
   "source": [
    "odd_numbers_2 = [number for number in numbers if number % 2 == 1]\n",
    "print(odd_numbers_2)"
   ]
  },
  {
   "cell_type": "markdown",
   "metadata": {},
   "source": [
    "***\n",
    "# 연산자"
   ]
  },
  {
   "cell_type": "markdown",
   "metadata": {},
   "source": [
    "## 복합 할당 연산자\n",
    "- +=와 같은 것들을 복합 할당 연산자라고 합니다."
   ]
  },
  {
   "cell_type": "code",
   "execution_count": 79,
   "metadata": {},
   "outputs": [
    {
     "name": "stdout",
     "output_type": "stream",
     "text": [
      "1\n",
      "2\n"
     ]
    }
   ],
   "source": [
    "count = 0\n",
    "count = count + 1\n",
    "print(count)\n",
    "count += 1  # count = count + 1과 같습니다.\n",
    "print(count)"
   ]
  },
  {
   "cell_type": "markdown",
   "metadata": {},
   "source": [
    "## 특수 연산자\n",
    "- 아래는 특수 연산자입니다."
   ]
  },
  {
   "cell_type": "code",
   "execution_count": 86,
   "metadata": {},
   "outputs": [
    {
     "name": "stdout",
     "output_type": "stream",
     "text": [
      "9\n",
      "2.33333333333\n",
      "2\n",
      "1\n"
     ]
    }
   ],
   "source": [
    "print(3**2)\n",
    "print(7/3.0)\n",
    "print(7//3)\n",
    "print(7%3)"
   ]
  },
  {
   "cell_type": "markdown",
   "metadata": {},
   "source": [
    "## 문자열\n",
    "- '+' : 문자열끼리 연결합니다.\n",
    "- '*' : 문자열을 해당 수만큼 반복합니다."
   ]
  },
  {
   "cell_type": "code",
   "execution_count": 90,
   "metadata": {},
   "outputs": [
    {
     "name": "stdout",
     "output_type": "stream",
     "text": [
      "abcdef\n",
      "이거 출력이야 ddddd\n",
      "abcabcabc\n",
      "abc abc abc abc abc \n"
     ]
    }
   ],
   "source": [
    "print('abc'+'def')\n",
    "print('이거 출력이야'+' '+'ddddd')\n",
    "print('abc'*3)\n",
    "print('abc '*5)"
   ]
  },
  {
   "cell_type": "markdown",
   "metadata": {},
   "source": [
    "## 비교\n",
    "- 비교의 결과는 참(True)과 거짓(False)입니다.\n",
    "- '==' : 왼쪽과 오른쪽이 같은 지 비교\n",
    "- '!=' : 왼쪽과 오른쪽이 다른 지 비교\n",
    "- '>' : 왼쪽이 더 큰 지 비교\n",
    "- '<' : 오른쪽이 더 큰 지 비교\n",
    "- '>=' : 왼쪽이 더 크거나 같은 지 비교\n",
    "- '<=' : 오른쪽이 더 크거나 같은 지 비교"
   ]
  },
  {
   "cell_type": "code",
   "execution_count": 91,
   "metadata": {},
   "outputs": [
    {
     "name": "stdout",
     "output_type": "stream",
     "text": [
      "True\n",
      "False\n",
      "True\n",
      "False\n",
      "True\n",
      "True\n"
     ]
    }
   ],
   "source": [
    "print(1 < 2)\n",
    "print(1 > 2)\n",
    "print(1 == 1)\n",
    "print(1 != 1)\n",
    "print(4 <= 6)\n",
    "print(5 <= 5)"
   ]
  },
  {
   "cell_type": "markdown",
   "metadata": {},
   "source": [
    "## 논리\n",
    "- and : 둘 다 True일 때에만 True\n",
    "- or : 한 쪽이라도 True면 True\n",
    "- not : True면 False, False면 True"
   ]
  },
  {
   "cell_type": "code",
   "execution_count": 96,
   "metadata": {},
   "outputs": [
    {
     "name": "stdout",
     "output_type": "stream",
     "text": [
      "False\n",
      "True\n",
      "True\n"
     ]
    }
   ],
   "source": [
    "my_height = 130\n",
    "my_age = 11\n",
    "print(my_height>10 and my_age>20)\n",
    "print(my_height>10 or my_age>20)\n",
    "print(my_height>10 and not my_age>20)"
   ]
  },
  {
   "cell_type": "markdown",
   "metadata": {},
   "source": [
    "## 멤버쉽\n",
    "- 리스트, 튜플 등의 안에 해당 값이 있는 지 확인합니다.\n",
    "- in과 not in 키워드를 사용합니다."
   ]
  },
  {
   "cell_type": "code",
   "execution_count": 100,
   "metadata": {},
   "outputs": [
    {
     "name": "stdout",
     "output_type": "stream",
     "text": [
      "True\n",
      "False\n"
     ]
    }
   ],
   "source": [
    "fruits = ['사과', '딸기', '망고', '브로콜리', '바나나']\n",
    "#print(fruits)\n",
    "print('딸기' in fruits)\n",
    "#print('딸기' )\n",
    "print('상추' in fruits)\n",
    "#print('상추' )"
   ]
  },
  {
   "cell_type": "markdown",
   "metadata": {},
   "source": [
    "***\n",
    "# 조건문\n",
    "## if"
   ]
  },
  {
   "cell_type": "code",
   "execution_count": null,
   "metadata": {
    "collapsed": true
   },
   "outputs": [],
   "source": [
    "if 조건:\n",
    "    실행할 명령1\n",
    "    실행할 명령2\n",
    "    ..."
   ]
  },
  {
   "cell_type": "markdown",
   "metadata": {},
   "source": [
    "- 조건이 참인지 거짓인지 판단합니다.\n",
    "- if 키워드를 사용합니다.\n",
    "> 참일 경우 코드블럭을 실행합니다. <br>\n",
    "> 거짓일 경우 코드블럭을 넘어갑니다."
   ]
  },
  {
   "cell_type": "code",
   "execution_count": 101,
   "metadata": {},
   "outputs": [
    {
     "name": "stdout",
     "output_type": "stream",
     "text": [
      "당신이 Edwin이군요.\n",
      "만나서 반가워요 Edwin.\n"
     ]
    }
   ],
   "source": [
    "name = 'Edwin'\n",
    "if name == 'Edwin':\n",
    "    print('당신이 Edwin이군요.')\n",
    "    print('만나서 반가워요 Edwin.')"
   ]
  },
  {
   "cell_type": "markdown",
   "metadata": {},
   "source": [
    "## else, elif\n",
    "- else: 이전의 if나 elif가 모두 거짓일 경우 else로 넘어갑니다."
   ]
  },
  {
   "cell_type": "code",
   "execution_count": 102,
   "metadata": {},
   "outputs": [
    {
     "name": "stdout",
     "output_type": "stream",
     "text": [
      "아니 당신은!?\n"
     ]
    }
   ],
   "source": [
    "name = 'Bob'\n",
    "if name == 'Alice':\n",
    "    print('당신이 Ailce이군요.')\n",
    "else:\n",
    "    print('아니 당신은!?')"
   ]
  },
  {
   "cell_type": "markdown",
   "metadata": {},
   "source": [
    "- elif : 이전의 if나 elif가 거짓일 경우 elif의 조건문으로 넘어갑니다."
   ]
  },
  {
   "cell_type": "code",
   "execution_count": 103,
   "metadata": {},
   "outputs": [
    {
     "name": "stdout",
     "output_type": "stream",
     "text": [
      "당신이 Bob이군요.\n"
     ]
    }
   ],
   "source": [
    "name = 'Bob'\n",
    "if name == 'Alice':\n",
    "    print('당신이 Ailce이군요.')\n",
    "elif name == 'Bob':\n",
    "    print('당신이 Bob이군요.')\n",
    "else:\n",
    "    print('아니 당신은!?')"
   ]
  },
  {
   "cell_type": "markdown",
   "metadata": {},
   "source": [
    "***\n",
    "# while\n",
    "## 기본 구조\n",
    "- while은 조건을 기준으로 반복합니다."
   ]
  },
  {
   "cell_type": "code",
   "execution_count": null,
   "metadata": {
    "collapsed": true
   },
   "outputs": [],
   "source": [
    "while 조건:\n",
    "    실행할 문장 1\n",
    "    실행할 문장 2\n",
    "    ..."
   ]
  },
  {
   "cell_type": "code",
   "execution_count": 104,
   "metadata": {},
   "outputs": [
    {
     "name": "stdout",
     "output_type": "stream",
     "text": [
      "0\n",
      "1\n",
      "2\n"
     ]
    }
   ],
   "source": [
    "count = 0\n",
    "while(count<3):\n",
    "    print(count)\n",
    "    count += 1\n"
   ]
  },
  {
   "cell_type": "markdown",
   "metadata": {},
   "source": [
    "## continue, break\n",
    "- continue : 다시 조건으로 돌아갑니다.\n",
    "- break : 반복문을 끝내 버립니다."
   ]
  },
  {
   "cell_type": "code",
   "execution_count": 110,
   "metadata": {},
   "outputs": [
    {
     "name": "stdout",
     "output_type": "stream",
     "text": [
      "8\n"
     ]
    }
   ],
   "source": [
    "count = 0\n",
    "while(count<10):\n",
    "    count += 1\n",
    "    if count<4:\n",
    "        pass\n",
    "    if count == 8:\n",
    "        break\n",
    "print(count)\n",
    "    \n"
   ]
  },
  {
   "cell_type": "markdown",
   "metadata": {},
   "source": [
    "***\n",
    "# 딕셔너리\n",
    "## 기본 구조"
   ]
  },
  {
   "cell_type": "code",
   "execution_count": null,
   "metadata": {
    "collapsed": true
   },
   "outputs": [],
   "source": [
    "{key1: value1, key2: value2, key3: value3 ...}"
   ]
  },
  {
   "cell_type": "markdown",
   "metadata": {},
   "source": [
    "- 딕셔너리를 말 그대로 해석하면 사전입니다.\n",
    "- 키(key)와 값(value)을 쌍으로 갖는 자료형입니다.\n",
    "- 리스트와의 차이점은 관련된 정보를 연관시킨다는 것입니다.\n",
    "- 리스트는 값을 다루기 위해 인덱스를 사용하지만 딕셔너리는 키를 사용합니다."
   ]
  },
  {
   "cell_type": "code",
   "execution_count": 115,
   "metadata": {},
   "outputs": [
    {
     "name": "stdout",
     "output_type": "stream",
     "text": [
      "{1: 'a', 'c': 'd', 'b': 2}\n"
     ]
    }
   ],
   "source": [
    "my_dict = {}  # {}\n",
    "my_dict[1] = 'a'  # {1: 'a'}\n",
    "my_dict['b'] = 2  # {1: 'a', 'b': 2}\n",
    "my_dict['c'] = 'd'  # {1: 'a', 'b': 2, 'c': 'd'}\n",
    "print(my_dict)"
   ]
  },
  {
   "cell_type": "markdown",
   "metadata": {},
   "source": [
    "## 메서드\n",
    "- dict.values(): 딕셔너리에서 값만 뽑아 돌려줍니다."
   ]
  },
  {
   "cell_type": "code",
   "execution_count": null,
   "metadata": {
    "collapsed": true
   },
   "outputs": [],
   "source": [
    "students = {'학생1': 'Tom', '학생2': 'Sally', '학생3': 'Betty'}\n",
    "for student in students.values():\n",
    "    print(student)"
   ]
  },
  {
   "cell_type": "markdown",
   "metadata": {},
   "source": [
    "- dict.keys(): 딕셔너리에서 키만 뽑아 돌려줍니다."
   ]
  },
  {
   "cell_type": "code",
   "execution_count": 116,
   "metadata": {},
   "outputs": [
    {
     "name": "stdout",
     "output_type": "stream",
     "text": [
      "학생1\n",
      "학생2\n",
      "학생3\n"
     ]
    }
   ],
   "source": [
    "students = {'학생1': 'Tom', '학생2': 'Sally', '학생3': 'Betty'}\n",
    "for key in students.keys():\n",
    "    print(key)"
   ]
  },
  {
   "cell_type": "markdown",
   "metadata": {},
   "source": [
    "- dict.items(): 딕셔너리에서 키와 값 쌍을 뽑아 돌려줍니다."
   ]
  },
  {
   "cell_type": "code",
   "execution_count": 1,
   "metadata": {},
   "outputs": [
    {
     "name": "stdout",
     "output_type": "stream",
     "text": [
      "학생1 Tom\n",
      "학생2 Sally\n",
      "학생3 Betty\n"
     ]
    }
   ],
   "source": [
    "students = {'학생1': 'Tom', '학생2': 'Sally', '학생3': 'Betty'}\n",
    "for key, val in students.items():\n",
    "    print(key, val)"
   ]
  },
  {
   "cell_type": "markdown",
   "metadata": {},
   "source": [
    "***\n",
    "# 함수\n",
    "## 기본 구조"
   ]
  },
  {
   "cell_type": "code",
   "execution_count": null,
   "metadata": {
    "collapsed": true
   },
   "outputs": [],
   "source": [
    "def 함수이름(인자1, ...):\n",
    "    실행할 명령1\n",
    "    실행할 명령2\n",
    "    ...\n",
    "    return 결과,결과2,결과3"
   ]
  },
  {
   "cell_type": "markdown",
   "metadata": {},
   "source": [
    "## 여러 개 돌려 받기\n",
    "- 콤마(,)를 사용해서 여러 개의 값을 돌려받을 수 있습니다.\n",
    "- 여러 개를 돌려줄 때는 하나의 튜플로 묶어서 전달합니다."
   ]
  },
  {
   "cell_type": "code",
   "execution_count": 118,
   "metadata": {},
   "outputs": [
    {
     "name": "stdout",
     "output_type": "stream",
     "text": [
      "(5, 6)\n"
     ]
    }
   ],
   "source": [
    "def add_mul(num1,num2):\n",
    "    return num1+num2, num1*num2\n",
    "my_add, my_mul = add_mul(2,3)\n",
    "print(my_add, my_mul)"
   ]
  },
  {
   "cell_type": "markdown",
   "metadata": {},
   "source": [
    "## 람다(Lambda)"
   ]
  },
  {
   "cell_type": "code",
   "execution_count": null,
   "metadata": {
    "collapsed": true
   },
   "outputs": [],
   "source": [
    "lambda 인자 : 표현식"
   ]
  },
  {
   "cell_type": "code",
   "execution_count": 119,
   "metadata": {},
   "outputs": [
    {
     "name": "stdout",
     "output_type": "stream",
     "text": [
      "30\n"
     ]
    }
   ],
   "source": [
    "def hap(x, y):\n",
    "    return x + y\n",
    "print(hap(10, 20))"
   ]
  },
  {
   "cell_type": "code",
   "execution_count": 120,
   "metadata": {},
   "outputs": [
    {
     "name": "stdout",
     "output_type": "stream",
     "text": [
      "30\n"
     ]
    }
   ],
   "source": [
    "print( (lambda x,z: x + z)(10, 20) )"
   ]
  },
  {
   "cell_type": "markdown",
   "metadata": {},
   "source": [
    "***\n",
    "# 모듈\n",
    "## 기본 구조\n",
    "- 비슷한 기능의 함수들을 모아둔 파일입니다.\n",
    "- import 키워드로 모듈을 가져옵니다.\n",
    "- 마침표(.)를 이용해 함수를 사용합니다.\n",
    "- 파이썬은 제공하는 라이브러리들이 많아서 구현할 필요 없이 바로 가져다 쓸 수 있습니다."
   ]
  },
  {
   "cell_type": "code",
   "execution_count": null,
   "metadata": {
    "collapsed": true
   },
   "outputs": [],
   "source": [
    "import 모듈이름"
   ]
  },
  {
   "cell_type": "code",
   "execution_count": null,
   "metadata": {
    "collapsed": true
   },
   "outputs": [],
   "source": [
    "import 모듈이름 as 별명"
   ]
  },
  {
   "cell_type": "code",
   "execution_count": 123,
   "metadata": {},
   "outputs": [
    {
     "name": "stdout",
     "output_type": "stream",
     "text": [
      "[1 2 3]\n"
     ]
    }
   ],
   "source": [
    "import numpy as np\n",
    "import pandas as pd\n",
    "print(np.array([1,2,3]))"
   ]
  },
  {
   "cell_type": "markdown",
   "metadata": {},
   "source": [
    "## random\n",
    "- 난수를 만들거나 무작위와 관련된 함수를 포함합니다.\n",
    "- 아래 random 모듈이 포함하고 있는 함수들입니다.\n",
    "- random.choice(): 리스트의 값 중 하나를 랜덤하게 선택합니다."
   ]
  },
  {
   "cell_type": "code",
   "execution_count": null,
   "metadata": {
    "collapsed": true
   },
   "outputs": [],
   "source": [
    "import random\n",
    "students = ['Tom', 'Sally', 'Betty', 'Eric', 'Angela', 'Stephany'] \n",
    "print(random.choice(students))\n",
    "print(random.choice(students))"
   ]
  },
  {
   "cell_type": "markdown",
   "metadata": {},
   "source": [
    "- random.sample(): 리스트의 값 중에서 지정한 개수만큼 랜덤하게 선택합니다."
   ]
  },
  {
   "cell_type": "code",
   "execution_count": null,
   "metadata": {
    "collapsed": true
   },
   "outputs": [],
   "source": [
    "import random\n",
    "fruits = ['apple', 'banana', 'lemon']\n",
    "my_fruit = random.sample(fruits, 2)\n",
    "print(my_fruit) # ['apple', 'banana'] or ['banana', 'lemon'] or ..."
   ]
  },
  {
   "cell_type": "markdown",
   "metadata": {},
   "source": [
    "- random.randint(): 특정 범위의 정수 중 하나를 랜덤하게 선택합니다."
   ]
  },
  {
   "cell_type": "code",
   "execution_count": 124,
   "metadata": {},
   "outputs": [
    {
     "name": "stdout",
     "output_type": "stream",
     "text": [
      "5\n"
     ]
    }
   ],
   "source": [
    "import random\n",
    "my_int = random.randint(0, 10)\n",
    "print(my_int)  # 0~10"
   ]
  },
  {
   "cell_type": "markdown",
   "metadata": {},
   "source": [
    "***\n",
    "# 수고하셨습니다"
   ]
  }
 ],
 "metadata": {
  "kernelspec": {
   "display_name": "Python 3",
   "language": "python",
   "name": "python3"
  },
  "language_info": {
   "codemirror_mode": {
    "name": "ipython",
    "version": 3
   },
   "file_extension": ".py",
   "mimetype": "text/x-python",
   "name": "python",
   "nbconvert_exporter": "python",
   "pygments_lexer": "ipython3",
   "version": "3.5.0"
  }
 },
 "nbformat": 4,
 "nbformat_minor": 2
}

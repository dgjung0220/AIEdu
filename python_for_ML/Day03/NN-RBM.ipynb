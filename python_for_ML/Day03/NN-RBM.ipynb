{
 "cells": [
  {
   "cell_type": "code",
   "execution_count": 1,
   "metadata": {},
   "outputs": [],
   "source": [
    "from sklearn.model_selection import train_test_split\n",
    "from sklearn.neural_network import BernoulliRBM\n",
    "from sklearn import datasets\n",
    "import numpy as np"
   ]
  },
  {
   "cell_type": "code",
   "execution_count": 3,
   "metadata": {},
   "outputs": [
    {
     "name": "stdout",
     "output_type": "stream",
     "text": [
      "What is information of digits:  dict_keys(['data', 'target', 'target_names', 'images', 'DESCR'])\n"
     ]
    }
   ],
   "source": [
    "digits = datasets.load_digits()\n",
    "print(\"What is information of digits: \", digits.keys())"
   ]
  },
  {
   "cell_type": "code",
   "execution_count": 5,
   "metadata": {
    "scrolled": true
   },
   "outputs": [
    {
     "name": "stdout",
     "output_type": "stream",
     "text": [
      "Optical Recognition of Handwritten Digits Data Set\n",
      "===================================================\n",
      "\n",
      "Notes\n",
      "-----\n",
      "Data Set Characteristics:\n",
      "    :Number of Instances: 5620\n",
      "    :Number of Attributes: 64\n",
      "    :Attribute Information: 8x8 image of integer pixels in the range 0..16.\n",
      "    :Missing Attribute Values: None\n",
      "    :Creator: E. Alpaydin (alpaydin '@' boun.edu.tr)\n",
      "    :Date: July; 1998\n",
      "\n",
      "This is a copy of the test set of the UCI ML hand-written digits datasets\n",
      "http://archive.ics.uci.edu/ml/datasets/Optical+Recognition+of+Handwritten+Digits\n",
      "\n",
      "The data set contains images of hand-written digits: 10 classes where\n",
      "each class refers to a digit.\n",
      "\n",
      "Preprocessing programs made available by NIST were used to extract\n",
      "normalized bitmaps of handwritten digits from a preprinted form. From a\n",
      "total of 43 people, 30 contributed to the training set and different 13\n",
      "to the test set. 32x32 bitmaps are divided into nonoverlapping blocks of\n",
      "4x4 and the number of on pixels are counted in each block. This generates\n",
      "an input matrix of 8x8 where each element is an integer in the range\n",
      "0..16. This reduces dimensionality and gives invariance to small\n",
      "distortions.\n",
      "\n",
      "For info on NIST preprocessing routines, see M. D. Garris, J. L. Blue, G.\n",
      "T. Candela, D. L. Dimmick, J. Geist, P. J. Grother, S. A. Janet, and C.\n",
      "L. Wilson, NIST Form-Based Handprint Recognition System, NISTIR 5469,\n",
      "1994.\n",
      "\n",
      "References\n",
      "----------\n",
      "  - C. Kaynak (1995) Methods of Combining Multiple Classifiers and Their\n",
      "    Applications to Handwritten Digit Recognition, MSc Thesis, Institute of\n",
      "    Graduate Studies in Science and Engineering, Bogazici University.\n",
      "  - E. Alpaydin, C. Kaynak (1998) Cascading Classifiers, Kybernetika.\n",
      "  - Ken Tang and Ponnuthurai N. Suganthan and Xi Yao and A. Kai Qin.\n",
      "    Linear dimensionalityreduction using relevance weighted LDA. School of\n",
      "    Electrical and Electronic Engineering Nanyang Technological University.\n",
      "    2005.\n",
      "  - Claudio Gentile. A New Approximate Maximal Margin Classification\n",
      "    Algorithm. NIPS. 2000.\n",
      "\n"
     ]
    }
   ],
   "source": [
    "print(digits.DESCR)"
   ]
  },
  {
   "cell_type": "code",
   "execution_count": 6,
   "metadata": {},
   "outputs": [],
   "source": [
    "X = digits.data\n",
    "Y = digits.target\n",
    "X = (X - np.min(X, 0)) / (np.max(X, 0) + 0.0001)  # 0-1 scaling\n",
    "X_train, X_test, Y_train, Y_test = train_test_split(X, Y, test_size=0.2,random_state=0)"
   ]
  },
  {
   "cell_type": "code",
   "execution_count": 8,
   "metadata": {},
   "outputs": [
    {
     "data": {
      "image/png": "[encoded data removed]",
      "text/plain": [
       "<Figure size 576x72 with 10 Axes>"
      ]
     },
     "metadata": {},
     "output_type": "display_data"
    }
   ],
   "source": [
    "from matplotlib import pyplot as plt\n",
    "%matplotlib inline\n",
    "plt.ion()\n",
    "\n",
    "imgSize = (8,8)\n",
    "fig, ax = plt.subplots(1,10, figsize=(8,1))\n",
    "for i in range(10):\n",
    "    img = np.reshape(X_train[i], imgSize)\n",
    "    ax[i].imshow(img, cmap='gray')"
   ]
  },
  {
   "cell_type": "code",
   "execution_count": 9,
   "metadata": {},
   "outputs": [],
   "source": [
    "def getReconstructedImage(rbm, x, weight):\n",
    "    x_data = np.reshape(x, (64,1))\n",
    "    \n",
    "    # Weight의 크기는 10x64, Input은 64x1\n",
    "    output = np.matmul(weight, x_data)\n",
    "    \n",
    "    # 이제 Reconstruction을 해 봅시다\n",
    "    # weight.T: 64*10, output은 10x1\n",
    "    reconstrunction = np.matmul(weight.T, output)\n",
    "    \n",
    "    return np.ravel(reconstrunction)"
   ]
  },
  {
   "cell_type": "code",
   "execution_count": 10,
   "metadata": {},
   "outputs": [
    {
     "name": "stdout",
     "output_type": "stream",
     "text": [
      "[BernoulliRBM] Iteration 1, pseudo-likelihood = -26.39, time = 0.03s\n"
     ]
    },
    {
     "data": {
      "text/plain": [
       "BernoulliRBM(batch_size=10, learning_rate=0.06, n_components=10, n_iter=1,\n",
       "       random_state=0, verbose=True)"
      ]
     },
     "execution_count": 10,
     "metadata": {},
     "output_type": "execute_result"
    }
   ],
   "source": [
    "rbm = BernoulliRBM(random_state=0, verbose=True)\n",
    "rbm.learning_rate = 0.06\n",
    "rbm.n_iter = 1\n",
    "rbm.n_components = 10\n",
    "rbm.batch_size = 10\n",
    "\n",
    "rbm.fit(X_train, Y_train)"
   ]
  },
  {
   "cell_type": "code",
   "execution_count": 12,
   "metadata": {
    "scrolled": true
   },
   "outputs": [
    {
     "name": "stdout",
     "output_type": "stream",
     "text": [
      "우리가 만든Visible node와 연결된 Bias값:  [-0.744      -0.63428994 -0.36339263 -0.15587906 -0.18073651 -0.33001974\n",
      " -0.5316474  -0.73760048 -0.72900105 -0.52350674 -0.19937441 -0.17704068\n",
      " -0.19310641 -0.28861706 -0.49805972 -0.72950057 -0.7620003  -0.45295514\n",
      " -0.19165823 -0.2911843  -0.28936331 -0.32397289 -0.48338099 -0.74721495\n",
      " -0.7740006  -0.45269522 -0.22797713 -0.25144044 -0.27887276 -0.21682896\n",
      " -0.45846616 -0.7860018  -0.702      -0.44254101 -0.23740077 -0.28974492\n",
      " -0.19964187 -0.17461882 -0.38493145 -0.756      -0.73650049 -0.48054115\n",
      " -0.30227343 -0.31132799 -0.26000818 -0.2699207  -0.42585087 -0.74657213\n",
      " -0.77625012 -0.59769888 -0.24152556 -0.2575502  -0.19305001 -0.27704753\n",
      " -0.36440507 -0.75230864 -0.73457203 -0.58695549 -0.33628669 -0.13246926\n",
      " -0.16584344 -0.29412979 -0.44684594 -0.72675108]\n",
      "Input이 64개 니까, bias값도?  64\n"
     ]
    }
   ],
   "source": [
    "print (\"우리가 만든Visible node와 연결된 Bias값: \", rbm.intercept_visible_)\n",
    "print (\"Input이 64개 니까, bias값도? \", np.size(rbm.intercept_visible_))"
   ]
  },
  {
   "cell_type": "code",
   "execution_count": null,
   "metadata": {},
   "outputs": [],
   "source": []
  }
 ],
 "metadata": {
  "kernelspec": {
   "display_name": "Python 3",
   "language": "python",
   "name": "python3"
  },
  "language_info": {
   "codemirror_mode": {
    "name": "ipython",
    "version": 3
   },
   "file_extension": ".py",
   "mimetype": "text/x-python",
   "name": "python",
   "nbconvert_exporter": "python",
   "pygments_lexer": "ipython3",
   "version": "3.6.5"
  }
 },
 "nbformat": 4,
 "nbformat_minor": 2
}
